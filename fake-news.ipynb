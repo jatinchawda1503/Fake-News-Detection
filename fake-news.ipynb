{
 "cells": [
  {
   "cell_type": "code",
   "execution_count": 546,
   "metadata": {},
   "outputs": [],
   "source": [
    "import pandas as pd\n",
    "import re\n",
    "import nltk\n",
    "from nltk.corpus import stopwords\n",
    "from nltk import PorterStemmer\n",
    "from nltk import LancasterStemmer\n"
   ]
  },
  {
   "cell_type": "code",
   "execution_count": 547,
   "metadata": {},
   "outputs": [
    {
     "name": "stderr",
     "output_type": "stream",
     "text": [
      "[nltk_data] Downloading package stopwords to\n",
      "[nltk_data]     C:\\Users\\jatin\\AppData\\Roaming\\nltk_data...\n",
      "[nltk_data]   Package stopwords is already up-to-date!\n"
     ]
    }
   ],
   "source": [
    "if not nltk.download('stopwords'):\n",
    "    nltk.download('stopwords')"
   ]
  },
  {
   "cell_type": "code",
   "execution_count": 548,
   "metadata": {},
   "outputs": [
    {
     "data": {
      "text/plain": [
       "(20800, 5)"
      ]
     },
     "execution_count": 548,
     "metadata": {},
     "output_type": "execute_result"
    }
   ],
   "source": [
    "data = pd.read_csv('data/train.csv')\n",
    "data.shape"
   ]
  },
  {
   "cell_type": "code",
   "execution_count": 549,
   "metadata": {},
   "outputs": [
    {
     "data": {
      "text/plain": [
       "id         int64\n",
       "title     object\n",
       "author    object\n",
       "text      object\n",
       "label      int64\n",
       "dtype: object"
      ]
     },
     "execution_count": 549,
     "metadata": {},
     "output_type": "execute_result"
    }
   ],
   "source": [
    "data.dtypes"
   ]
  },
  {
   "cell_type": "code",
   "execution_count": 550,
   "metadata": {},
   "outputs": [
    {
     "data": {
      "text/plain": [
       "id           0\n",
       "title      558\n",
       "author    1957\n",
       "text        39\n",
       "label        0\n",
       "dtype: int64"
      ]
     },
     "execution_count": 550,
     "metadata": {},
     "output_type": "execute_result"
    }
   ],
   "source": [
    "data.isna().sum()"
   ]
  },
  {
   "cell_type": "code",
   "execution_count": 551,
   "metadata": {},
   "outputs": [],
   "source": [
    "data = data.fillna('')"
   ]
  },
  {
   "cell_type": "code",
   "execution_count": 552,
   "metadata": {},
   "outputs": [],
   "source": [
    "data['article'] = data['title'] + data['author'] + data['text']"
   ]
  },
  {
   "cell_type": "code",
   "execution_count": 553,
   "metadata": {},
   "outputs": [],
   "source": [
    "data.drop(columns=['id'], inplace=True)"
   ]
  },
  {
   "cell_type": "code",
   "execution_count": 554,
   "metadata": {},
   "outputs": [
    {
     "data": {
      "text/plain": [
       "'FLYNN: Hillary Clinton, Big Woman on Campus - BreitbartDaniel J. FlynnEver get the feeling your life circles the roundabout rather than heads in a straight line toward the intended destination? [Hillary Clinton remains the big woman on campus in leafy, liberal Wellesley, Massachusetts. Everywhere else votes her most likely to don her inauguration dress for the remainder of her days the way Miss Havisham forever wore that wedding dress.  Speaking of Great Expectations, Hillary Rodham overflowed with them 48 years ago when she first addressed a Wellesley graduating class. The president of the college informed those gathered in 1969 that the students needed “no debate so far as I could ascertain as to who their spokesman was to be” (kind of the like the Democratic primaries in 2016 minus the   terms unknown then even at a Seven Sisters school). “I am very glad that Miss Adams made it clear that what I am speaking for today is all of us —  the 400 of us,” Miss Rodham told her classmates. After appointing herself Edger Bergen to the Charlie McCarthys and Mortimer Snerds in attendance, the    bespectacled in granny glasses (awarding her matronly wisdom —  or at least John Lennon wisdom) took issue with the previous speaker. Despite becoming the first   to win election to a seat in the U. S. Senate since Reconstruction, Edward Brooke came in for criticism for calling for “empathy” for the goals of protestors as he criticized tactics. Though Clinton in her senior thesis on Saul Alinsky lamented “Black Power demagogues” and “elitist arrogance and repressive intolerance” within the New Left, similar words coming out of a Republican necessitated a brief rebuttal. “Trust,” Rodham ironically observed in 1969, “this is one word that when I asked the class at our rehearsal what it was they wanted me to say for them, everyone came up to me and said ‘Talk about trust, talk about the lack of trust both for us and the way we feel about others. Talk about the trust bust.’ What can you say about it? What can you say about a feeling that permeates a generation and that perhaps is not even understood by those who are distrusted?” The “trust bust” certainly busted Clinton’s 2016 plans. She certainly did not even understand that people distrusted her. After Whitewater, Travelgate, the vast   conspiracy, Benghazi, and the missing emails, Clinton found herself the distrusted voice on Friday. There was a load of compromising on the road to the broadening of her political horizons. And distrust from the American people —  Trump edged her 48 percent to 38 percent on the question immediately prior to November’s election —  stood as a major reason for the closing of those horizons. Clinton described her vanquisher and his supporters as embracing a “lie,” a “con,” “alternative facts,” and “a   assault on truth and reason. ” She failed to explain why the American people chose his lies over her truth. “As the history majors among you here today know all too well, when people in power invent their own facts and attack those who question them, it can mark the beginning of the end of a free society,” she offered. “That is not hyperbole. ” Like so many people to emerge from the 1960s, Hillary Clinton embarked upon a long, strange trip. From high school Goldwater Girl and Wellesley College Republican president to Democratic politician, Clinton drank in the times and the place that gave her a degree. More significantly, she went from idealist to cynic, as a comparison of her two Wellesley commencement addresses show. Way back when, she lamented that “for too long our leaders have viewed politics as the art of the possible, and the challenge now is to practice politics as the art of making what appears to be impossible possible. ” Now, as the big woman on campus but the odd woman out of the White House, she wonders how her current station is even possible. “Why aren’t I 50 points ahead?” she asked in September. In May she asks why she isn’t president. The woman famously dubbed a “congenital liar” by Bill Safire concludes that lies did her in —  theirs, mind you, not hers. Getting stood up on Election Day, like finding yourself the jilted bride on your wedding day, inspires dangerous delusions.'"
      ]
     },
     "execution_count": 554,
     "metadata": {},
     "output_type": "execute_result"
    }
   ],
   "source": [
    "data['article'][1]"
   ]
  },
  {
   "cell_type": "code",
   "execution_count": 555,
   "metadata": {},
   "outputs": [],
   "source": [
    "# X = data.drop(columns='label', axis=1)\n",
    "# Y = data['label']"
   ]
  },
  {
   "cell_type": "code",
   "execution_count": 556,
   "metadata": {},
   "outputs": [],
   "source": [
    "ps = PorterStemmer()\n",
    "ls = LancasterStemmer()\n"
   ]
  },
  {
   "cell_type": "code",
   "execution_count": 557,
   "metadata": {},
   "outputs": [],
   "source": [
    "# stemmed_word = re.sub('[`~!@#$%^&*()\\\\]\\\\[+={}/|:;\\\"\\'<>,.?-_]', X)\n",
    "def perform_stemming(content):\n",
    "    remove_special_char = re.sub('[^a-zA-Z]',' ', content)\n",
    "    string_to_lower = remove_special_char.lower().split()\n",
    "    #string_split = string_to_lower.split()\n",
    "    remove_word = [word for word in string_to_lower if not word in stopwords.words('english')]\n",
    "    stem = [ps.stem(word) for word in remove_word]\n",
    "    return stem"
   ]
  },
  {
   "cell_type": "code",
   "execution_count": 558,
   "metadata": {},
   "outputs": [],
   "source": [
    "data['article'] = data['article'].apply(perform_stemming)"
   ]
  },
  {
   "cell_type": "code",
   "execution_count": null,
   "metadata": {},
   "outputs": [],
   "source": [
    "def perform_stemming_test(data,col):\n",
    "    data[col] = data[col].replace('[^a-zA-Z]',' ',regex=True)\n",
    "    data[col] = data[col].applymap(lambda s:s.lower().split() if type(s) == str else s)\n",
    "    # #data[col] = data[col].apply(lambda x:x.split())\n",
    "    data[col]=data[col].apply(lambda x: [item for item in x if item not in stopwords.words('english')])\n",
    "    data[col] = data[col].apply(lambda x: [ps.stem(y) for y in x])\n",
    "    return data"
   ]
  },
  {
   "cell_type": "code",
   "execution_count": null,
   "metadata": {},
   "outputs": [
    {
     "ename": "AttributeError",
     "evalue": "'list' object has no attribute 'lower'",
     "output_type": "error",
     "traceback": [
      "\u001b[1;31m---------------------------------------------------------------------------\u001b[0m",
      "\u001b[1;31mAttributeError\u001b[0m                            Traceback (most recent call last)",
      "\u001b[1;32md:\\study\\Action_Learning\\Fake-News-Detection\\fake-news.ipynb Cell 15'\u001b[0m in \u001b[0;36m<cell line: 1>\u001b[1;34m()\u001b[0m\n\u001b[1;32m----> <a href='vscode-notebook-cell:/d%3A/study/Action_Learning/Fake-News-Detection/fake-news.ipynb#ch0000015?line=0'>1</a>\u001b[0m data \u001b[39m=\u001b[39m perform_stemming_test(data,[\u001b[39m'\u001b[39;49m\u001b[39marticle\u001b[39;49m\u001b[39m'\u001b[39;49m])\n",
      "\u001b[1;32md:\\study\\Action_Learning\\Fake-News-Detection\\fake-news.ipynb Cell 14'\u001b[0m in \u001b[0;36mperform_stemming_test\u001b[1;34m(data, col)\u001b[0m\n\u001b[0;32m      <a href='vscode-notebook-cell:/d%3A/study/Action_Learning/Fake-News-Detection/fake-news.ipynb#ch0000014?line=3'>4</a>\u001b[0m \u001b[39m# #data[col] = data[col].apply(lambda x:x.split())\u001b[39;00m\n\u001b[0;32m      <a href='vscode-notebook-cell:/d%3A/study/Action_Learning/Fake-News-Detection/fake-news.ipynb#ch0000014?line=4'>5</a>\u001b[0m data[col]\u001b[39m=\u001b[39mdata[col]\u001b[39m.\u001b[39mapply(\u001b[39mlambda\u001b[39;00m x: [item \u001b[39mfor\u001b[39;00m item \u001b[39min\u001b[39;00m x \u001b[39mif\u001b[39;00m item \u001b[39mnot\u001b[39;00m \u001b[39min\u001b[39;00m stopwords\u001b[39m.\u001b[39mwords(\u001b[39m'\u001b[39m\u001b[39menglish\u001b[39m\u001b[39m'\u001b[39m)])\n\u001b[1;32m----> <a href='vscode-notebook-cell:/d%3A/study/Action_Learning/Fake-News-Detection/fake-news.ipynb#ch0000014?line=5'>6</a>\u001b[0m data[col] \u001b[39m=\u001b[39m data[col]\u001b[39m.\u001b[39;49mapply(\u001b[39mlambda\u001b[39;49;00m x: [ps\u001b[39m.\u001b[39;49mstem(y) \u001b[39mfor\u001b[39;49;00m y \u001b[39min\u001b[39;49;00m x])\n\u001b[0;32m      <a href='vscode-notebook-cell:/d%3A/study/Action_Learning/Fake-News-Detection/fake-news.ipynb#ch0000014?line=6'>7</a>\u001b[0m \u001b[39mreturn\u001b[39;00m data\n",
      "File \u001b[1;32md:\\ProgramData\\Miniconda3\\envs\\fake-news\\lib\\site-packages\\pandas\\core\\frame.py:8845\u001b[0m, in \u001b[0;36mDataFrame.apply\u001b[1;34m(self, func, axis, raw, result_type, args, **kwargs)\u001b[0m\n\u001b[0;32m   8834\u001b[0m \u001b[39mfrom\u001b[39;00m \u001b[39mpandas\u001b[39;00m\u001b[39m.\u001b[39;00m\u001b[39mcore\u001b[39;00m\u001b[39m.\u001b[39;00m\u001b[39mapply\u001b[39;00m \u001b[39mimport\u001b[39;00m frame_apply\n\u001b[0;32m   8836\u001b[0m op \u001b[39m=\u001b[39m frame_apply(\n\u001b[0;32m   8837\u001b[0m     \u001b[39mself\u001b[39m,\n\u001b[0;32m   8838\u001b[0m     func\u001b[39m=\u001b[39mfunc,\n\u001b[1;32m   (...)\u001b[0m\n\u001b[0;32m   8843\u001b[0m     kwargs\u001b[39m=\u001b[39mkwargs,\n\u001b[0;32m   8844\u001b[0m )\n\u001b[1;32m-> 8845\u001b[0m \u001b[39mreturn\u001b[39;00m op\u001b[39m.\u001b[39;49mapply()\u001b[39m.\u001b[39m__finalize__(\u001b[39mself\u001b[39m, method\u001b[39m=\u001b[39m\u001b[39m\"\u001b[39m\u001b[39mapply\u001b[39m\u001b[39m\"\u001b[39m)\n",
      "File \u001b[1;32md:\\ProgramData\\Miniconda3\\envs\\fake-news\\lib\\site-packages\\pandas\\core\\apply.py:733\u001b[0m, in \u001b[0;36mFrameApply.apply\u001b[1;34m(self)\u001b[0m\n\u001b[0;32m    730\u001b[0m \u001b[39melif\u001b[39;00m \u001b[39mself\u001b[39m\u001b[39m.\u001b[39mraw:\n\u001b[0;32m    731\u001b[0m     \u001b[39mreturn\u001b[39;00m \u001b[39mself\u001b[39m\u001b[39m.\u001b[39mapply_raw()\n\u001b[1;32m--> 733\u001b[0m \u001b[39mreturn\u001b[39;00m \u001b[39mself\u001b[39;49m\u001b[39m.\u001b[39;49mapply_standard()\n",
      "File \u001b[1;32md:\\ProgramData\\Miniconda3\\envs\\fake-news\\lib\\site-packages\\pandas\\core\\apply.py:857\u001b[0m, in \u001b[0;36mFrameApply.apply_standard\u001b[1;34m(self)\u001b[0m\n\u001b[0;32m    856\u001b[0m \u001b[39mdef\u001b[39;00m \u001b[39mapply_standard\u001b[39m(\u001b[39mself\u001b[39m):\n\u001b[1;32m--> 857\u001b[0m     results, res_index \u001b[39m=\u001b[39m \u001b[39mself\u001b[39;49m\u001b[39m.\u001b[39;49mapply_series_generator()\n\u001b[0;32m    859\u001b[0m     \u001b[39m# wrap results\u001b[39;00m\n\u001b[0;32m    860\u001b[0m     \u001b[39mreturn\u001b[39;00m \u001b[39mself\u001b[39m\u001b[39m.\u001b[39mwrap_results(results, res_index)\n",
      "File \u001b[1;32md:\\ProgramData\\Miniconda3\\envs\\fake-news\\lib\\site-packages\\pandas\\core\\apply.py:873\u001b[0m, in \u001b[0;36mFrameApply.apply_series_generator\u001b[1;34m(self)\u001b[0m\n\u001b[0;32m    870\u001b[0m \u001b[39mwith\u001b[39;00m option_context(\u001b[39m\"\u001b[39m\u001b[39mmode.chained_assignment\u001b[39m\u001b[39m\"\u001b[39m, \u001b[39mNone\u001b[39;00m):\n\u001b[0;32m    871\u001b[0m     \u001b[39mfor\u001b[39;00m i, v \u001b[39min\u001b[39;00m \u001b[39menumerate\u001b[39m(series_gen):\n\u001b[0;32m    872\u001b[0m         \u001b[39m# ignore SettingWithCopy here in case the user mutates\u001b[39;00m\n\u001b[1;32m--> 873\u001b[0m         results[i] \u001b[39m=\u001b[39m \u001b[39mself\u001b[39;49m\u001b[39m.\u001b[39;49mf(v)\n\u001b[0;32m    874\u001b[0m         \u001b[39mif\u001b[39;00m \u001b[39misinstance\u001b[39m(results[i], ABCSeries):\n\u001b[0;32m    875\u001b[0m             \u001b[39m# If we have a view on v, we need to make a copy because\u001b[39;00m\n\u001b[0;32m    876\u001b[0m             \u001b[39m#  series_generator will swap out the underlying data\u001b[39;00m\n\u001b[0;32m    877\u001b[0m             results[i] \u001b[39m=\u001b[39m results[i]\u001b[39m.\u001b[39mcopy(deep\u001b[39m=\u001b[39m\u001b[39mFalse\u001b[39;00m)\n",
      "\u001b[1;32md:\\study\\Action_Learning\\Fake-News-Detection\\fake-news.ipynb Cell 14'\u001b[0m in \u001b[0;36mperform_stemming_test.<locals>.<lambda>\u001b[1;34m(x)\u001b[0m\n\u001b[0;32m      <a href='vscode-notebook-cell:/d%3A/study/Action_Learning/Fake-News-Detection/fake-news.ipynb#ch0000014?line=3'>4</a>\u001b[0m \u001b[39m# #data[col] = data[col].apply(lambda x:x.split())\u001b[39;00m\n\u001b[0;32m      <a href='vscode-notebook-cell:/d%3A/study/Action_Learning/Fake-News-Detection/fake-news.ipynb#ch0000014?line=4'>5</a>\u001b[0m data[col]\u001b[39m=\u001b[39mdata[col]\u001b[39m.\u001b[39mapply(\u001b[39mlambda\u001b[39;00m x: [item \u001b[39mfor\u001b[39;00m item \u001b[39min\u001b[39;00m x \u001b[39mif\u001b[39;00m item \u001b[39mnot\u001b[39;00m \u001b[39min\u001b[39;00m stopwords\u001b[39m.\u001b[39mwords(\u001b[39m'\u001b[39m\u001b[39menglish\u001b[39m\u001b[39m'\u001b[39m)])\n\u001b[1;32m----> <a href='vscode-notebook-cell:/d%3A/study/Action_Learning/Fake-News-Detection/fake-news.ipynb#ch0000014?line=5'>6</a>\u001b[0m data[col] \u001b[39m=\u001b[39m data[col]\u001b[39m.\u001b[39mapply(\u001b[39mlambda\u001b[39;00m x: [ps\u001b[39m.\u001b[39mstem(y) \u001b[39mfor\u001b[39;00m y \u001b[39min\u001b[39;00m x])\n\u001b[0;32m      <a href='vscode-notebook-cell:/d%3A/study/Action_Learning/Fake-News-Detection/fake-news.ipynb#ch0000014?line=6'>7</a>\u001b[0m \u001b[39mreturn\u001b[39;00m data\n",
      "\u001b[1;32md:\\study\\Action_Learning\\Fake-News-Detection\\fake-news.ipynb Cell 14'\u001b[0m in \u001b[0;36m<listcomp>\u001b[1;34m(.0)\u001b[0m\n\u001b[0;32m      <a href='vscode-notebook-cell:/d%3A/study/Action_Learning/Fake-News-Detection/fake-news.ipynb#ch0000014?line=3'>4</a>\u001b[0m \u001b[39m# #data[col] = data[col].apply(lambda x:x.split())\u001b[39;00m\n\u001b[0;32m      <a href='vscode-notebook-cell:/d%3A/study/Action_Learning/Fake-News-Detection/fake-news.ipynb#ch0000014?line=4'>5</a>\u001b[0m data[col]\u001b[39m=\u001b[39mdata[col]\u001b[39m.\u001b[39mapply(\u001b[39mlambda\u001b[39;00m x: [item \u001b[39mfor\u001b[39;00m item \u001b[39min\u001b[39;00m x \u001b[39mif\u001b[39;00m item \u001b[39mnot\u001b[39;00m \u001b[39min\u001b[39;00m stopwords\u001b[39m.\u001b[39mwords(\u001b[39m'\u001b[39m\u001b[39menglish\u001b[39m\u001b[39m'\u001b[39m)])\n\u001b[1;32m----> <a href='vscode-notebook-cell:/d%3A/study/Action_Learning/Fake-News-Detection/fake-news.ipynb#ch0000014?line=5'>6</a>\u001b[0m data[col] \u001b[39m=\u001b[39m data[col]\u001b[39m.\u001b[39mapply(\u001b[39mlambda\u001b[39;00m x: [ps\u001b[39m.\u001b[39;49mstem(y) \u001b[39mfor\u001b[39;00m y \u001b[39min\u001b[39;00m x])\n\u001b[0;32m      <a href='vscode-notebook-cell:/d%3A/study/Action_Learning/Fake-News-Detection/fake-news.ipynb#ch0000014?line=6'>7</a>\u001b[0m \u001b[39mreturn\u001b[39;00m data\n",
      "File \u001b[1;32md:\\ProgramData\\Miniconda3\\envs\\fake-news\\lib\\site-packages\\nltk\\stem\\porter.py:658\u001b[0m, in \u001b[0;36mPorterStemmer.stem\u001b[1;34m(self, word, to_lowercase)\u001b[0m\n\u001b[0;32m    654\u001b[0m \u001b[39mdef\u001b[39;00m \u001b[39mstem\u001b[39m(\u001b[39mself\u001b[39m, word, to_lowercase\u001b[39m=\u001b[39m\u001b[39mTrue\u001b[39;00m):\n\u001b[0;32m    655\u001b[0m     \u001b[39m\"\"\"\u001b[39;00m\n\u001b[0;32m    656\u001b[0m \u001b[39m    :param to_lowercase: if `to_lowercase=True` the word always lowercase\u001b[39;00m\n\u001b[0;32m    657\u001b[0m \u001b[39m    \"\"\"\u001b[39;00m\n\u001b[1;32m--> 658\u001b[0m     stem \u001b[39m=\u001b[39m word\u001b[39m.\u001b[39;49mlower() \u001b[39mif\u001b[39;00m to_lowercase \u001b[39melse\u001b[39;00m word\n\u001b[0;32m    660\u001b[0m     \u001b[39mif\u001b[39;00m \u001b[39mself\u001b[39m\u001b[39m.\u001b[39mmode \u001b[39m==\u001b[39m \u001b[39mself\u001b[39m\u001b[39m.\u001b[39mNLTK_EXTENSIONS \u001b[39mand\u001b[39;00m word \u001b[39min\u001b[39;00m \u001b[39mself\u001b[39m\u001b[39m.\u001b[39mpool:\n\u001b[0;32m    661\u001b[0m         \u001b[39mreturn\u001b[39;00m \u001b[39mself\u001b[39m\u001b[39m.\u001b[39mpool[stem]\n",
      "\u001b[1;31mAttributeError\u001b[0m: 'list' object has no attribute 'lower'"
     ]
    }
   ],
   "source": [
    "#data = perform_stemming_test(data,['article'])"
   ]
  },
  {
   "cell_type": "code",
   "execution_count": null,
   "metadata": {},
   "outputs": [
    {
     "data": {
      "text/plain": [
       "0        [house, dem, aide, we, didn, t, even, see, com...\n",
       "1        [flynn, hillary, clinton, big, woman, on, camp...\n",
       "2        [why, the, truth, might, get, you, firedconsor...\n",
       "3        [civilians, killed, in, single, us, airstrike,...\n",
       "4        [iranian, woman, jailed, for, fictional, unpub...\n",
       "                               ...                        \n",
       "20795    [rapper, t, i, trump, a, poster, child, for, w...\n",
       "20796    [n, f, l, playoffs, schedule, matchups, and, o...\n",
       "20797    [macy, s, is, said, to, receive, takeover, app...\n",
       "20798    [nato, russia, to, hold, parallel, exercises, ...\n",
       "20799    [what, keeps, the, f, alivedavid, swanson, dav...\n",
       "Name: article, Length: 20800, dtype: object"
      ]
     },
     "execution_count": 485,
     "metadata": {},
     "output_type": "execute_result"
    }
   ],
   "source": [
    "data['article']"
   ]
  }
 ],
 "metadata": {
  "kernelspec": {
   "display_name": "Python 3.9.12 ('fake-news')",
   "language": "python",
   "name": "python3"
  },
  "language_info": {
   "codemirror_mode": {
    "name": "ipython",
    "version": 3
   },
   "file_extension": ".py",
   "mimetype": "text/x-python",
   "name": "python",
   "nbconvert_exporter": "python",
   "pygments_lexer": "ipython3",
   "version": "3.9.12"
  },
  "orig_nbformat": 4,
  "vscode": {
   "interpreter": {
    "hash": "e7bb022964789df308a423c04447c18a59731d287287fad50a4be52442e25c04"
   }
  }
 },
 "nbformat": 4,
 "nbformat_minor": 2
}
