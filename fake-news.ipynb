{
 "cells": [
  {
   "cell_type": "code",
   "execution_count": 179,
   "metadata": {},
   "outputs": [],
   "source": [
    "import pandas as pd\n",
    "import numpy as np\n",
    "import matplotlib.pyplot as plt\n",
    "import os\n",
    "import re\n",
    "import nltk\n",
    "from nltk.corpus import stopwords\n",
    "from nltk import PorterStemmer\n",
    "from nltk import LancasterStemmer\n",
    "import joblib\n",
    "from sklearn.feature_extraction.text import CountVectorizer\n",
    "from sklearn.feature_extraction.text import TfidfVectorizer\n",
    "from sklearn.model_selection import train_test_split\n",
    "from sklearn.linear_model import LogisticRegression\n",
    "from sklearn.metrics import classification_report, confusion_matrix\n",
    "from matplotlib.colors import ListedColormap"
   ]
  },
  {
   "cell_type": "code",
   "execution_count": 180,
   "metadata": {},
   "outputs": [],
   "source": [
    "def clean_data(data):\n",
    "    data = data.fillna('')\n",
    "    if 'id' in data.columns:\n",
    "        data.drop(columns=['id'], inplace=True)\n",
    "    return data\n",
    "\n",
    "def select_features(data,colx,coly=None):\n",
    "    X = data[colx].apply(lambda x: ' '.join(x), axis=1)\n",
    "    if coly is None:\n",
    "        return X\n",
    "    else:\n",
    "        y = data[coly]\n",
    "    return X,y\n",
    "\n",
    "def preprocess_data(data):\n",
    "    data = data.str.replace('[^a-zA-Z0-9]', ' ',regex=True)\n",
    "    if not stopwords.words('english'):\n",
    "        nltk.download('stopwords')\n",
    "    else:\n",
    "        st_eng = set(stopwords.words('english'))   \n",
    "    if not os.path.exists('./models/lancasterstemmer.joblib'):\n",
    "            lancasterstemmer = LancasterStemmer()\n",
    "            joblib.dump(lancasterstemmer, './models/lancasterstemmer.joblib', compress=0, protocol=None, cache_size=None)\n",
    "            data = data.apply(lambda words: ' '.join(lancasterstemmer.stem(word.lower()) for word in words.split() if word not in st_eng))\n",
    "    else:\n",
    "        lancasterstemmer = joblib.load('./models/lancasterstemmer.joblib')\n",
    "        data = data.apply(lambda words: ' '.join(lancasterstemmer.stem(word.lower()) for word in words.split() if word not in st_eng))\n",
    "    return data\n",
    "\n",
    "\n",
    "\n",
    "def train_split(x_data,y_data,test_size,rand):\n",
    "    return train_test_split(x_data,y_data,test_size=test_size,random_state= rand)\n",
    "\n",
    "\n",
    "def vectorize_data(data,stage):\n",
    "    if stage == 'train' and not os.path.exists('./models/TfidfVectorizer.joblib'):  \n",
    "        vectorizer = TfidfVectorizer()\n",
    "        vectorizer.fit(data)\n",
    "        joblib.dump(vectorizer, './models/TfidfVectorizer.joblib', compress=0, protocol=None, cache_size=None)\n",
    "        data = vectorizer.transform(data)\n",
    "    else:\n",
    "        vectorizer = joblib.load('./models/TfidfVectorizer.joblib')\n",
    "        data = vectorizer.transform(data)\n",
    "    return data\n",
    "    \n",
    "def get_prediction(model,data):\n",
    "    y_pred = model.predict(data)\n",
    "    return y_pred\n",
    "\n",
    "def get_report(actual,predicted):\n",
    "    matrix = confusion_matrix(actual, predicted)\n",
    "    report = classification_report(actual, predicted)\n",
    "    return matrix,report"
   ]
  },
  {
   "cell_type": "code",
   "execution_count": 181,
   "metadata": {
    "scrolled": true
   },
   "outputs": [],
   "source": [
    "data = pd.read_csv('./data/train.csv')\n",
    "data = clean_data(data)\n",
    "X,y =select_features(data,['title','author','text'],['label'])\n",
    "X = preprocess_data(X)\n",
    "X_train,X_test,y_train,y_test = train_split(X,y,0.2,0)\n",
    "X_train = vectorize_data(X_train,'train')\n",
    "X_test = vectorize_data(X_test,'test')"
   ]
  },
  {
   "cell_type": "markdown",
   "metadata": {},
   "source": [
    "# Logistic Regression"
   ]
  },
  {
   "cell_type": "code",
   "execution_count": 182,
   "metadata": {},
   "outputs": [
    {
     "name": "stderr",
     "output_type": "stream",
     "text": [
      "d:\\ProgramData\\Miniconda3\\envs\\fake-news\\lib\\site-packages\\sklearn\\utils\\validation.py:1111: DataConversionWarning: A column-vector y was passed when a 1d array was expected. Please change the shape of y to (n_samples, ), for example using ravel().\n",
      "  y = column_or_1d(y, warn=True)\n"
     ]
    },
    {
     "name": "stdout",
     "output_type": "stream",
     "text": [
      "Pridiction Values is [0 1 1 ... 0 1 1]\n",
      "[[1962   84]\n",
      " [  92 2022]]\n",
      "              precision    recall  f1-score   support\n",
      "\n",
      "           0       0.96      0.96      0.96      2046\n",
      "           1       0.96      0.96      0.96      2114\n",
      "\n",
      "    accuracy                           0.96      4160\n",
      "   macro avg       0.96      0.96      0.96      4160\n",
      "weighted avg       0.96      0.96      0.96      4160\n",
      "\n"
     ]
    }
   ],
   "source": [
    "from sklearn.linear_model import LogisticRegression\n",
    "LR = LogisticRegression()\n",
    "linear = LR.fit(X_train, y_train)\n",
    "y_pred = get_prediction(linear,X_test)\n",
    "matrix,report = get_report(y_test,y_pred)\n",
    "\n",
    "print(\"Pridiction Values is\",y_pred)\n",
    "print(matrix)\n",
    "print(report)\n"
   ]
  },
  {
   "cell_type": "code",
   "execution_count": 183,
   "metadata": {},
   "outputs": [
    {
     "data": {
      "text/plain": [
       "Text(0, 0.5, 'Accuracy')"
      ]
     },
     "execution_count": 183,
     "metadata": {},
     "output_type": "execute_result"
    },
    {
     "data": {
      "image/png": "[encoded data removed]",
      "text/plain": [
       "<Figure size 720x432 with 1 Axes>"
      ]
     },
     "metadata": {
      "needs_background": "light"
     },
     "output_type": "display_data"
    }
   ],
   "source": [
    "from sklearn.neighbors import KNeighborsClassifier\n",
    "from sklearn import metrics\n",
    "acc = []\n",
    "\n",
    "for i in range(1,40):\n",
    "    neigh = KNeighborsClassifier(n_neighbors = i).fit(X_train,y_train.values.ravel())\n",
    "    yhat = neigh.predict(X_test)\n",
    "    acc.append(metrics.accuracy_score(y_test, yhat))\n",
    "    \n",
    "plt.figure(figsize=(10,6))\n",
    "plt.plot(range(1,40),acc,color = 'blue',linestyle='dashed', \n",
    "         marker='o',markerfacecolor='red', markersize=10)\n",
    "plt.title('accuracy vs. K Value')\n",
    "plt.xlabel('K')\n",
    "plt.ylabel('Accuracy')"
   ]
  },
  {
   "cell_type": "code",
   "execution_count": 184,
   "metadata": {},
   "outputs": [
    {
     "name": "stdout",
     "output_type": "stream",
     "text": [
      "Pridiction Values is [0 1 1 ... 0 1 0]\n",
      "[[1638  408]\n",
      " [ 180 1934]]\n",
      "              precision    recall  f1-score   support\n",
      "\n",
      "           0       0.90      0.80      0.85      2046\n",
      "           1       0.83      0.91      0.87      2114\n",
      "\n",
      "    accuracy                           0.86      4160\n",
      "   macro avg       0.86      0.86      0.86      4160\n",
      "weighted avg       0.86      0.86      0.86      4160\n",
      "\n"
     ]
    }
   ],
   "source": [
    "k = 40\n",
    "\n",
    "knn_optimal = KNeighborsClassifier(n_neighbors = k, metric = 'euclidean')\n",
    "knn_optimal.fit(X_train, y_train.values.ravel())\n",
    "y_pred = get_prediction(knn_optimal,X_test)\n",
    "matrix,report = get_report(y_test,y_pred)\n",
    "print(\"Pridiction Values is\",y_pred)\n",
    "print(matrix)\n",
    "print(report)\n"
   ]
  },
  {
   "cell_type": "markdown",
   "metadata": {},
   "source": [
    "# DecisionTreeClassifier"
   ]
  },
  {
   "cell_type": "code",
   "execution_count": 185,
   "metadata": {},
   "outputs": [
    {
     "data": {
      "text/plain": [
       "Text(0, 0.5, 'Accuracy')"
      ]
     },
     "execution_count": 185,
     "metadata": {},
     "output_type": "execute_result"
    },
    {
     "data": {
      "image/png": "[encoded data removed]",
      "text/plain": [
       "<Figure size 720x432 with 1 Axes>"
      ]
     },
     "metadata": {
      "needs_background": "light"
     },
     "output_type": "display_data"
    }
   ],
   "source": [
    "from sklearn.tree import DecisionTreeClassifier\n",
    "acc = []\n",
    "for i in range(1,40):\n",
    "    dt = DecisionTreeClassifier(criterion = 'entropy', random_state = 0, max_depth = i)\n",
    "    dt.fit(X_train, y_train.values.ravel())\n",
    "    Pred_DT = dt.predict(X_test)\n",
    "    acc.append(metrics.accuracy_score(y_test, Pred_DT))\n",
    "    \n",
    "plt.figure(figsize=(10,6))\n",
    "plt.plot(range(1,40),acc,color = 'blue',linestyle='dashed', \n",
    "         marker='o',markerfacecolor='red', markersize=10)\n",
    "plt.title('Accuracy vs. Max Depth')\n",
    "plt.xlabel('Depth')\n",
    "plt.ylabel('Accuracy')"
   ]
  },
  {
   "cell_type": "code",
   "execution_count": 186,
   "metadata": {},
   "outputs": [
    {
     "name": "stdout",
     "output_type": "stream",
     "text": [
      "Pridiction Values is [0 1 1 ... 0 1 1]\n",
      "[[1910  136]\n",
      " [ 134 1980]]\n",
      "              precision    recall  f1-score   support\n",
      "\n",
      "           0       0.93      0.93      0.93      2046\n",
      "           1       0.94      0.94      0.94      2114\n",
      "\n",
      "    accuracy                           0.94      4160\n",
      "   macro avg       0.94      0.94      0.94      4160\n",
      "weighted avg       0.94      0.94      0.94      4160\n",
      "\n"
     ]
    }
   ],
   "source": [
    "depth = 12\n",
    "dt = DecisionTreeClassifier(criterion = 'entropy', random_state = 0, max_depth = depth)\n",
    "dt.fit(X_train, y_train)\n",
    "y_pred = get_prediction(dt,X_test)\n",
    "matrix,report = get_report(y_test,y_pred)\n",
    "print(\"Pridiction Values is\",y_pred)\n",
    "print(matrix)\n",
    "print(report)"
   ]
  },
  {
   "cell_type": "code",
   "execution_count": 187,
   "metadata": {},
   "outputs": [
    {
     "data": {
      "text/plain": [
       "Text(0, 0.5, 'Accuracy')"
      ]
     },
     "execution_count": 187,
     "metadata": {},
     "output_type": "execute_result"
    },
    {
     "data": {
      "image/png": "[encoded data removed]",
      "text/plain": [
       "<Figure size 720x432 with 1 Axes>"
      ]
     },
     "metadata": {
      "needs_background": "light"
     },
     "output_type": "display_data"
    }
   ],
   "source": [
    "from sklearn.ensemble import RandomForestClassifier\n",
    "acc = []\n",
    "for i in range(1,40):\n",
    "    rf = RandomForestClassifier(n_estimators = i, criterion = 'entropy',random_state=0)\n",
    "    rf.fit(X_train, y_train.values.ravel())\n",
    "    Pred_RF = rf.predict(X_test)\n",
    "    acc.append(metrics.accuracy_score(y_test, Pred_DT))\n",
    "    \n",
    "plt.figure(figsize=(10,6))\n",
    "plt.plot(range(1,40),acc,color = 'blue',linestyle='dashed', \n",
    "         marker='o',markerfacecolor='red', markersize=10)\n",
    "plt.title('Accuracy vs. Max Depth')\n",
    "plt.xlabel('Depth')\n",
    "plt.ylabel('Accuracy')"
   ]
  },
  {
   "cell_type": "code",
   "execution_count": 201,
   "metadata": {},
   "outputs": [
    {
     "name": "stdout",
     "output_type": "stream",
     "text": [
      "Pridiction Values is [0 1 1 ... 0 1 1]\n",
      "[[1968   78]\n",
      " [ 185 1929]]\n",
      "              precision    recall  f1-score   support\n",
      "\n",
      "           0       0.91      0.96      0.94      2046\n",
      "           1       0.96      0.91      0.94      2114\n",
      "\n",
      "    accuracy                           0.94      4160\n",
      "   macro avg       0.94      0.94      0.94      4160\n",
      "weighted avg       0.94      0.94      0.94      4160\n",
      "\n"
     ]
    }
   ],
   "source": [
    "\n",
    "rf = RandomForestClassifier(n_estimators = 100, criterion = 'entropy',random_state=0)\n",
    "rf.fit(X_train, y_train.values.ravel())\n",
    "y_pred = get_prediction(rf,X_test)\n",
    "matrix,report = get_report(y_test,y_pred)\n",
    "print(\"Pridiction Values is\",y_pred)\n",
    "print(matrix)\n",
    "print(report)\n"
   ]
  },
  {
   "cell_type": "code",
   "execution_count": 189,
   "metadata": {},
   "outputs": [],
   "source": [
    "# from sklearn.model_selection import GridSearchCV\n",
    "# forest_params = {\"max_depth\": [1, 40],\n",
    "#               \"max_features\": [1, 3, 10],\n",
    "#               \"min_samples_split\": [1, 3, 10],\n",
    "#               \"min_samples_leaf\": [1, 3, 10],\n",
    "#               # \"bootstrap\": [True, False],\n",
    "#               \"criterion\": [\"gini\", \"entropy\"]}\n",
    "# rf_grid = RandomForestClassifier()\n",
    "# grid_search =GridSearchCV(rf_grid, forest_params, cv = 5, scoring='accuracy')\n",
    "# grid_search.fit(X_train, y_train.values.ravel())\n",
    "# y_pred = get_prediction(grid_search,X_test)\n",
    "# matrix,report = get_report(y_test,y_pred)\n",
    "# print(\"Pridiction Values is\",y_pred)\n",
    "# print(matrix)\n",
    "# print(report)\n",
    "# print(grid_search.best_params_)\n",
    "# print(grid_search.best_score_)"
   ]
  },
  {
   "cell_type": "code",
   "execution_count": 190,
   "metadata": {},
   "outputs": [
    {
     "name": "stderr",
     "output_type": "stream",
     "text": [
      "d:\\ProgramData\\Miniconda3\\envs\\fake-news\\lib\\site-packages\\sklearn\\utils\\validation.py:1111: DataConversionWarning: A column-vector y was passed when a 1d array was expected. Please change the shape of y to (n_samples, ), for example using ravel().\n",
      "  y = column_or_1d(y, warn=True)\n"
     ]
    },
    {
     "name": "stdout",
     "output_type": "stream",
     "text": [
      "Pridiction Values is [0 1 1 ... 0 1 1]\n",
      "[[1979   67]\n",
      " [  52 2062]]\n",
      "              precision    recall  f1-score   support\n",
      "\n",
      "           0       0.97      0.97      0.97      2046\n",
      "           1       0.97      0.98      0.97      2114\n",
      "\n",
      "    accuracy                           0.97      4160\n",
      "   macro avg       0.97      0.97      0.97      4160\n",
      "weighted avg       0.97      0.97      0.97      4160\n",
      "\n"
     ]
    }
   ],
   "source": [
    "from sklearn.svm import SVC\n",
    "svm = SVC(kernel = 'linear', random_state = 0, probability = True)\n",
    "svm.fit(X_train, y_train)\n",
    "y_pred = get_prediction(svm,X_test)\n",
    "matrix,report = get_report(y_test,y_pred)\n",
    "print(\"Pridiction Values is\",y_pred)\n",
    "print(matrix)\n",
    "print(report)"
   ]
  },
  {
   "cell_type": "markdown",
   "metadata": {},
   "source": [
    "# Bagging Ensemble Classifier"
   ]
  },
  {
   "cell_type": "code",
   "execution_count": 235,
   "metadata": {},
   "outputs": [
    {
     "name": "stdout",
     "output_type": "stream",
     "text": [
      "0.99\n"
     ]
    }
   ],
   "source": [
    "from sklearn.ensemble import BaggingClassifier\n",
    "from sklearn.datasets import make_classification\n",
    "X, y = make_classification(n_samples=100, n_features=50000,n_informative=2, n_redundant=0,random_state=0, shuffle=False)\n",
    "#print(X[1].reshape(-1, 1))\n",
    "clf = BaggingClassifier(base_estimator=SVC(), n_estimators=10, random_state=0).fit(X, y)\n",
    "y_pred = clf.predict(X[:50000])\n",
    "clf.score(X, y)\n",
    "print(clf.score(X, y))"
   ]
  },
  {
   "cell_type": "code",
   "execution_count": 237,
   "metadata": {},
   "outputs": [
    {
     "name": "stdout",
     "output_type": "stream",
     "text": [
      "Pridiction Values is [0 1 1 ... 0 1 1]\n",
      "[[1984   62]\n",
      " [  46 2068]]\n",
      "              precision    recall  f1-score   support\n",
      "\n",
      "           0       0.98      0.97      0.97      2046\n",
      "           1       0.97      0.98      0.97      2114\n",
      "\n",
      "    accuracy                           0.97      4160\n",
      "   macro avg       0.97      0.97      0.97      4160\n",
      "weighted avg       0.97      0.97      0.97      4160\n",
      "\n"
     ]
    }
   ],
   "source": [
    "from xgboost import XGBClassifier\n",
    "xg = XGBClassifier()\n",
    "xg.fit(X_train,y_train)\n",
    "y_pred = get_prediction(xg,X_test)\n",
    "matrix,report = get_report(y_test,y_pred)\n",
    "print(\"Pridiction Values is\",y_pred)\n",
    "print(matrix)\n",
    "print(report)"
   ]
  },
  {
   "cell_type": "code",
   "execution_count": 238,
   "metadata": {},
   "outputs": [
    {
     "name": "stdout",
     "output_type": "stream",
     "text": [
      "Learning rate set to 0.149735\n",
      "0:\tlearn: 0.5208237\ttotal: 5.37s\tremaining: 17m 49s\n",
      "1:\tlearn: 0.4146744\ttotal: 7.23s\tremaining: 11m 55s\n",
      "2:\tlearn: 0.3560062\ttotal: 8.91s\tremaining: 9m 45s\n",
      "3:\tlearn: 0.2989470\ttotal: 10.2s\tremaining: 8m 18s\n",
      "4:\tlearn: 0.2513948\ttotal: 11.4s\tremaining: 7m 23s\n",
      "5:\tlearn: 0.2285160\ttotal: 12.7s\tremaining: 6m 49s\n",
      "6:\tlearn: 0.2131620\ttotal: 13.8s\tremaining: 6m 20s\n",
      "7:\tlearn: 0.1996908\ttotal: 14.9s\tremaining: 5m 57s\n",
      "8:\tlearn: 0.1907128\ttotal: 16s\tremaining: 5m 39s\n",
      "9:\tlearn: 0.1822152\ttotal: 17.1s\tremaining: 5m 25s\n",
      "10:\tlearn: 0.1749928\ttotal: 18.2s\tremaining: 5m 13s\n",
      "11:\tlearn: 0.1681223\ttotal: 19.3s\tremaining: 5m 2s\n",
      "12:\tlearn: 0.1643066\ttotal: 20.3s\tremaining: 4m 52s\n",
      "13:\tlearn: 0.1593798\ttotal: 21.4s\tremaining: 4m 44s\n",
      "14:\tlearn: 0.1546871\ttotal: 22.6s\tremaining: 4m 38s\n",
      "15:\tlearn: 0.1509029\ttotal: 23.6s\tremaining: 4m 31s\n",
      "16:\tlearn: 0.1462108\ttotal: 24.8s\tremaining: 4m 27s\n",
      "17:\tlearn: 0.1430075\ttotal: 26s\tremaining: 4m 22s\n",
      "18:\tlearn: 0.1405670\ttotal: 27s\tremaining: 4m 17s\n",
      "19:\tlearn: 0.1387086\ttotal: 28.2s\tremaining: 4m 13s\n",
      "20:\tlearn: 0.1350026\ttotal: 29.3s\tremaining: 4m 9s\n",
      "21:\tlearn: 0.1316046\ttotal: 30.5s\tremaining: 4m 6s\n",
      "22:\tlearn: 0.1298450\ttotal: 31.5s\tremaining: 4m 2s\n",
      "23:\tlearn: 0.1258794\ttotal: 32.6s\tremaining: 3m 59s\n",
      "24:\tlearn: 0.1242021\ttotal: 33.7s\tremaining: 3m 55s\n",
      "25:\tlearn: 0.1224054\ttotal: 34.8s\tremaining: 3m 52s\n",
      "26:\tlearn: 0.1212220\ttotal: 35.8s\tremaining: 3m 49s\n",
      "27:\tlearn: 0.1200238\ttotal: 36.9s\tremaining: 3m 46s\n",
      "28:\tlearn: 0.1180269\ttotal: 38s\tremaining: 3m 44s\n",
      "29:\tlearn: 0.1157147\ttotal: 39.2s\tremaining: 3m 41s\n",
      "30:\tlearn: 0.1139958\ttotal: 40.3s\tremaining: 3m 39s\n",
      "31:\tlearn: 0.1118019\ttotal: 41.3s\tremaining: 3m 36s\n",
      "32:\tlearn: 0.1102194\ttotal: 42.4s\tremaining: 3m 34s\n",
      "33:\tlearn: 0.1090831\ttotal: 43.5s\tremaining: 3m 32s\n",
      "34:\tlearn: 0.1080747\ttotal: 44.5s\tremaining: 3m 29s\n",
      "35:\tlearn: 0.1061236\ttotal: 45.5s\tremaining: 3m 27s\n",
      "36:\tlearn: 0.1046063\ttotal: 46.5s\tremaining: 3m 25s\n",
      "37:\tlearn: 0.1034770\ttotal: 47.6s\tremaining: 3m 22s\n",
      "38:\tlearn: 0.1016711\ttotal: 48.7s\tremaining: 3m 21s\n",
      "39:\tlearn: 0.1008069\ttotal: 49.7s\tremaining: 3m 18s\n",
      "40:\tlearn: 0.0996815\ttotal: 50.7s\tremaining: 3m 16s\n",
      "41:\tlearn: 0.0991127\ttotal: 51.8s\tremaining: 3m 14s\n",
      "42:\tlearn: 0.0979280\ttotal: 52.8s\tremaining: 3m 12s\n",
      "43:\tlearn: 0.0971490\ttotal: 53.8s\tremaining: 3m 10s\n",
      "44:\tlearn: 0.0960253\ttotal: 54.9s\tremaining: 3m 8s\n",
      "45:\tlearn: 0.0944912\ttotal: 56s\tremaining: 3m 7s\n",
      "46:\tlearn: 0.0936915\ttotal: 57s\tremaining: 3m 5s\n",
      "47:\tlearn: 0.0931303\ttotal: 58s\tremaining: 3m 3s\n",
      "48:\tlearn: 0.0921076\ttotal: 59s\tremaining: 3m 1s\n",
      "49:\tlearn: 0.0919888\ttotal: 1m\tremaining: 3m\n",
      "50:\tlearn: 0.0906871\ttotal: 1m 1s\tremaining: 2m 58s\n",
      "51:\tlearn: 0.0895490\ttotal: 1m 2s\tremaining: 2m 56s\n",
      "52:\tlearn: 0.0894099\ttotal: 1m 3s\tremaining: 2m 55s\n",
      "53:\tlearn: 0.0892265\ttotal: 1m 4s\tremaining: 2m 53s\n",
      "54:\tlearn: 0.0884254\ttotal: 1m 5s\tremaining: 2m 52s\n",
      "55:\tlearn: 0.0874938\ttotal: 1m 6s\tremaining: 2m 50s\n",
      "56:\tlearn: 0.0865748\ttotal: 1m 7s\tremaining: 2m 48s\n",
      "57:\tlearn: 0.0854091\ttotal: 1m 8s\tremaining: 2m 47s\n",
      "58:\tlearn: 0.0844652\ttotal: 1m 9s\tremaining: 2m 46s\n",
      "59:\tlearn: 0.0836737\ttotal: 1m 10s\tremaining: 2m 44s\n",
      "60:\tlearn: 0.0835336\ttotal: 1m 11s\tremaining: 2m 43s\n",
      "61:\tlearn: 0.0833947\ttotal: 1m 12s\tremaining: 2m 41s\n",
      "62:\tlearn: 0.0832413\ttotal: 1m 13s\tremaining: 2m 40s\n",
      "63:\tlearn: 0.0830819\ttotal: 1m 14s\tremaining: 2m 38s\n",
      "64:\tlearn: 0.0829006\ttotal: 1m 15s\tremaining: 2m 37s\n",
      "65:\tlearn: 0.0827622\ttotal: 1m 16s\tremaining: 2m 36s\n",
      "66:\tlearn: 0.0820966\ttotal: 1m 18s\tremaining: 2m 35s\n",
      "67:\tlearn: 0.0818885\ttotal: 1m 19s\tremaining: 2m 33s\n",
      "68:\tlearn: 0.0808551\ttotal: 1m 20s\tremaining: 2m 32s\n",
      "69:\tlearn: 0.0801638\ttotal: 1m 21s\tremaining: 2m 30s\n",
      "70:\tlearn: 0.0790875\ttotal: 1m 22s\tremaining: 2m 29s\n",
      "71:\tlearn: 0.0789621\ttotal: 1m 23s\tremaining: 2m 28s\n",
      "72:\tlearn: 0.0787805\ttotal: 1m 24s\tremaining: 2m 26s\n",
      "73:\tlearn: 0.0786071\ttotal: 1m 25s\tremaining: 2m 25s\n",
      "74:\tlearn: 0.0784365\ttotal: 1m 26s\tremaining: 2m 23s\n",
      "75:\tlearn: 0.0777150\ttotal: 1m 27s\tremaining: 2m 22s\n",
      "76:\tlearn: 0.0775894\ttotal: 1m 28s\tremaining: 2m 21s\n",
      "77:\tlearn: 0.0770107\ttotal: 1m 29s\tremaining: 2m 19s\n",
      "78:\tlearn: 0.0764423\ttotal: 1m 30s\tremaining: 2m 18s\n",
      "79:\tlearn: 0.0758081\ttotal: 1m 31s\tremaining: 2m 17s\n",
      "80:\tlearn: 0.0756875\ttotal: 1m 32s\tremaining: 2m 15s\n",
      "81:\tlearn: 0.0748051\ttotal: 1m 33s\tremaining: 2m 14s\n",
      "82:\tlearn: 0.0746371\ttotal: 1m 34s\tremaining: 2m 13s\n",
      "83:\tlearn: 0.0745129\ttotal: 1m 35s\tremaining: 2m 12s\n",
      "84:\tlearn: 0.0739480\ttotal: 1m 36s\tremaining: 2m 10s\n",
      "85:\tlearn: 0.0735536\ttotal: 1m 37s\tremaining: 2m 9s\n",
      "86:\tlearn: 0.0734171\ttotal: 1m 38s\tremaining: 2m 8s\n",
      "87:\tlearn: 0.0732912\ttotal: 1m 39s\tremaining: 2m 7s\n",
      "88:\tlearn: 0.0731033\ttotal: 1m 40s\tremaining: 2m 5s\n",
      "89:\tlearn: 0.0722108\ttotal: 1m 42s\tremaining: 2m 4s\n",
      "90:\tlearn: 0.0713078\ttotal: 1m 43s\tremaining: 2m 3s\n",
      "91:\tlearn: 0.0711349\ttotal: 1m 44s\tremaining: 2m 2s\n",
      "92:\tlearn: 0.0706877\ttotal: 1m 45s\tremaining: 2m 1s\n",
      "93:\tlearn: 0.0705777\ttotal: 1m 46s\tremaining: 2m\n",
      "94:\tlearn: 0.0695412\ttotal: 1m 47s\tremaining: 1m 58s\n",
      "95:\tlearn: 0.0691548\ttotal: 1m 48s\tremaining: 1m 57s\n",
      "96:\tlearn: 0.0690488\ttotal: 1m 49s\tremaining: 1m 56s\n",
      "97:\tlearn: 0.0689250\ttotal: 1m 50s\tremaining: 1m 55s\n",
      "98:\tlearn: 0.0688239\ttotal: 1m 51s\tremaining: 1m 53s\n",
      "99:\tlearn: 0.0686734\ttotal: 1m 52s\tremaining: 1m 52s\n",
      "100:\tlearn: 0.0671862\ttotal: 1m 53s\tremaining: 1m 51s\n",
      "101:\tlearn: 0.0670833\ttotal: 1m 54s\tremaining: 1m 50s\n",
      "102:\tlearn: 0.0661184\ttotal: 1m 55s\tremaining: 1m 49s\n",
      "103:\tlearn: 0.0660231\ttotal: 1m 56s\tremaining: 1m 47s\n",
      "104:\tlearn: 0.0653345\ttotal: 1m 57s\tremaining: 1m 46s\n",
      "105:\tlearn: 0.0651935\ttotal: 1m 58s\tremaining: 1m 45s\n",
      "106:\tlearn: 0.0651007\ttotal: 1m 59s\tremaining: 1m 44s\n",
      "107:\tlearn: 0.0646261\ttotal: 2m\tremaining: 1m 43s\n",
      "108:\tlearn: 0.0645241\ttotal: 2m 1s\tremaining: 1m 41s\n",
      "109:\tlearn: 0.0638666\ttotal: 2m 3s\tremaining: 1m 40s\n",
      "110:\tlearn: 0.0635908\ttotal: 2m 4s\tremaining: 1m 39s\n",
      "111:\tlearn: 0.0635027\ttotal: 2m 5s\tremaining: 1m 38s\n",
      "112:\tlearn: 0.0632216\ttotal: 2m 6s\tremaining: 1m 37s\n",
      "113:\tlearn: 0.0631348\ttotal: 2m 7s\tremaining: 1m 35s\n",
      "114:\tlearn: 0.0630504\ttotal: 2m 8s\tremaining: 1m 34s\n",
      "115:\tlearn: 0.0629677\ttotal: 2m 9s\tremaining: 1m 33s\n",
      "116:\tlearn: 0.0620916\ttotal: 2m 10s\tremaining: 1m 32s\n",
      "117:\tlearn: 0.0619303\ttotal: 2m 11s\tremaining: 1m 31s\n",
      "118:\tlearn: 0.0618188\ttotal: 2m 12s\tremaining: 1m 29s\n",
      "119:\tlearn: 0.0607498\ttotal: 2m 13s\tremaining: 1m 28s\n",
      "120:\tlearn: 0.0606644\ttotal: 2m 14s\tremaining: 1m 27s\n",
      "121:\tlearn: 0.0599515\ttotal: 2m 15s\tremaining: 1m 26s\n",
      "122:\tlearn: 0.0598709\ttotal: 2m 16s\tremaining: 1m 25s\n",
      "123:\tlearn: 0.0597833\ttotal: 2m 17s\tremaining: 1m 24s\n",
      "124:\tlearn: 0.0596675\ttotal: 2m 18s\tremaining: 1m 22s\n",
      "125:\tlearn: 0.0595823\ttotal: 2m 19s\tremaining: 1m 21s\n",
      "126:\tlearn: 0.0592177\ttotal: 2m 20s\tremaining: 1m 20s\n",
      "127:\tlearn: 0.0590327\ttotal: 2m 21s\tremaining: 1m 19s\n",
      "128:\tlearn: 0.0589556\ttotal: 2m 22s\tremaining: 1m 18s\n",
      "129:\tlearn: 0.0588821\ttotal: 2m 23s\tremaining: 1m 17s\n",
      "130:\tlearn: 0.0586444\ttotal: 2m 24s\tremaining: 1m 16s\n",
      "131:\tlearn: 0.0585384\ttotal: 2m 25s\tremaining: 1m 15s\n",
      "132:\tlearn: 0.0576949\ttotal: 2m 26s\tremaining: 1m 13s\n",
      "133:\tlearn: 0.0576213\ttotal: 2m 27s\tremaining: 1m 12s\n",
      "134:\tlearn: 0.0575493\ttotal: 2m 28s\tremaining: 1m 11s\n",
      "135:\tlearn: 0.0568854\ttotal: 2m 29s\tremaining: 1m 10s\n",
      "136:\tlearn: 0.0568149\ttotal: 2m 30s\tremaining: 1m 9s\n",
      "137:\tlearn: 0.0566913\ttotal: 2m 31s\tremaining: 1m 8s\n",
      "138:\tlearn: 0.0565943\ttotal: 2m 32s\tremaining: 1m 7s\n",
      "139:\tlearn: 0.0562266\ttotal: 2m 33s\tremaining: 1m 5s\n",
      "140:\tlearn: 0.0561160\ttotal: 2m 34s\tremaining: 1m 4s\n",
      "141:\tlearn: 0.0558520\ttotal: 2m 35s\tremaining: 1m 3s\n",
      "142:\tlearn: 0.0557821\ttotal: 2m 36s\tremaining: 1m 2s\n",
      "143:\tlearn: 0.0557143\ttotal: 2m 37s\tremaining: 1m 1s\n",
      "144:\tlearn: 0.0556496\ttotal: 2m 39s\tremaining: 1m\n",
      "145:\tlearn: 0.0553317\ttotal: 2m 40s\tremaining: 59.3s\n",
      "146:\tlearn: 0.0552668\ttotal: 2m 41s\tremaining: 58.1s\n",
      "147:\tlearn: 0.0552039\ttotal: 2m 42s\tremaining: 57s\n",
      "148:\tlearn: 0.0551425\ttotal: 2m 43s\tremaining: 55.9s\n",
      "149:\tlearn: 0.0550503\ttotal: 2m 44s\tremaining: 54.7s\n",
      "150:\tlearn: 0.0549907\ttotal: 2m 45s\tremaining: 53.6s\n",
      "151:\tlearn: 0.0548356\ttotal: 2m 46s\tremaining: 52.5s\n",
      "152:\tlearn: 0.0547755\ttotal: 2m 47s\tremaining: 51.4s\n",
      "153:\tlearn: 0.0546639\ttotal: 2m 48s\tremaining: 50.3s\n",
      "154:\tlearn: 0.0546049\ttotal: 2m 49s\tremaining: 49.2s\n",
      "155:\tlearn: 0.0545464\ttotal: 2m 50s\tremaining: 48.1s\n",
      "156:\tlearn: 0.0544884\ttotal: 2m 51s\tremaining: 46.9s\n",
      "157:\tlearn: 0.0543935\ttotal: 2m 52s\tremaining: 45.8s\n",
      "158:\tlearn: 0.0536790\ttotal: 2m 53s\tremaining: 44.7s\n",
      "159:\tlearn: 0.0536122\ttotal: 2m 54s\tremaining: 43.6s\n",
      "160:\tlearn: 0.0535561\ttotal: 2m 55s\tremaining: 42.5s\n",
      "161:\tlearn: 0.0535006\ttotal: 2m 56s\tremaining: 41.4s\n",
      "162:\tlearn: 0.0532569\ttotal: 2m 57s\tremaining: 40.3s\n",
      "163:\tlearn: 0.0531831\ttotal: 2m 58s\tremaining: 39.2s\n",
      "164:\tlearn: 0.0529180\ttotal: 2m 59s\tremaining: 38.2s\n",
      "165:\tlearn: 0.0528623\ttotal: 3m 1s\tremaining: 37.2s\n",
      "166:\tlearn: 0.0527824\ttotal: 3m 2s\tremaining: 36.1s\n",
      "167:\tlearn: 0.0527289\ttotal: 3m 3s\tremaining: 35s\n",
      "168:\tlearn: 0.0523226\ttotal: 3m 4s\tremaining: 33.9s\n",
      "169:\tlearn: 0.0521573\ttotal: 3m 5s\tremaining: 32.8s\n",
      "170:\tlearn: 0.0520623\ttotal: 3m 6s\tremaining: 31.7s\n",
      "171:\tlearn: 0.0513390\ttotal: 3m 7s\tremaining: 30.6s\n",
      "172:\tlearn: 0.0512385\ttotal: 3m 8s\tremaining: 29.5s\n",
      "173:\tlearn: 0.0511849\ttotal: 3m 9s\tremaining: 28.4s\n",
      "174:\tlearn: 0.0511100\ttotal: 3m 10s\tremaining: 27.3s\n",
      "175:\tlearn: 0.0508908\ttotal: 3m 12s\tremaining: 26.2s\n",
      "176:\tlearn: 0.0508385\ttotal: 3m 13s\tremaining: 25.1s\n",
      "177:\tlearn: 0.0507870\ttotal: 3m 14s\tremaining: 24s\n",
      "178:\tlearn: 0.0507367\ttotal: 3m 15s\tremaining: 22.9s\n",
      "179:\tlearn: 0.0503583\ttotal: 3m 16s\tremaining: 21.8s\n",
      "180:\tlearn: 0.0500797\ttotal: 3m 17s\tremaining: 20.7s\n",
      "181:\tlearn: 0.0500299\ttotal: 3m 18s\tremaining: 19.6s\n",
      "182:\tlearn: 0.0495009\ttotal: 3m 19s\tremaining: 18.5s\n",
      "183:\tlearn: 0.0494519\ttotal: 3m 20s\tremaining: 17.4s\n",
      "184:\tlearn: 0.0490095\ttotal: 3m 21s\tremaining: 16.3s\n",
      "185:\tlearn: 0.0489612\ttotal: 3m 22s\tremaining: 15.2s\n",
      "186:\tlearn: 0.0489133\ttotal: 3m 23s\tremaining: 14.1s\n",
      "187:\tlearn: 0.0488642\ttotal: 3m 24s\tremaining: 13s\n",
      "188:\tlearn: 0.0481168\ttotal: 3m 25s\tremaining: 11.9s\n",
      "189:\tlearn: 0.0477426\ttotal: 3m 26s\tremaining: 10.9s\n",
      "190:\tlearn: 0.0476584\ttotal: 3m 27s\tremaining: 9.77s\n",
      "191:\tlearn: 0.0475891\ttotal: 3m 28s\tremaining: 8.68s\n",
      "192:\tlearn: 0.0475421\ttotal: 3m 29s\tremaining: 7.59s\n",
      "193:\tlearn: 0.0474970\ttotal: 3m 30s\tremaining: 6.5s\n",
      "194:\tlearn: 0.0474050\ttotal: 3m 31s\tremaining: 5.42s\n",
      "195:\tlearn: 0.0473600\ttotal: 3m 32s\tremaining: 4.33s\n",
      "196:\tlearn: 0.0473163\ttotal: 3m 33s\tremaining: 3.25s\n",
      "197:\tlearn: 0.0469483\ttotal: 3m 34s\tremaining: 2.17s\n",
      "198:\tlearn: 0.0468800\ttotal: 3m 35s\tremaining: 1.08s\n",
      "199:\tlearn: 0.0468029\ttotal: 3m 36s\tremaining: 0us\n",
      "Pridiction Values is [0 1 1 ... 0 1 1]\n",
      "[[1985   61]\n",
      " [  55 2059]]\n",
      "              precision    recall  f1-score   support\n",
      "\n",
      "           0       0.97      0.97      0.97      2046\n",
      "           1       0.97      0.97      0.97      2114\n",
      "\n",
      "    accuracy                           0.97      4160\n",
      "   macro avg       0.97      0.97      0.97      4160\n",
      "weighted avg       0.97      0.97      0.97      4160\n",
      "\n"
     ]
    }
   ],
   "source": [
    "from catboost import CatBoostClassifier\n",
    "cat = CatBoostClassifier(iterations=200)\n",
    "cat.fit(X_train,y_train)\n",
    "y_pred = get_prediction(cat,X_test)\n",
    "matrix,report = get_report(y_test,y_pred)\n",
    "print(\"Pridiction Values is\",y_pred)\n",
    "print(matrix)\n",
    "print(report)\n"
   ]
  },
  {
   "cell_type": "code",
   "execution_count": 240,
   "metadata": {},
   "outputs": [
    {
     "name": "stderr",
     "output_type": "stream",
     "text": [
      "d:\\ProgramData\\Miniconda3\\envs\\fake-news\\lib\\site-packages\\sklearn\\utils\\validation.py:1111: DataConversionWarning: A column-vector y was passed when a 1d array was expected. Please change the shape of y to (n_samples, ), for example using ravel().\n",
      "  y = column_or_1d(y, warn=True)\n"
     ]
    },
    {
     "name": "stdout",
     "output_type": "stream",
     "text": [
      "Pridiction Values is [0 1 1 ... 0 1 1]\n",
      "[[1957   89]\n",
      " [  79 2035]]\n",
      "              precision    recall  f1-score   support\n",
      "\n",
      "           0       0.96      0.96      0.96      2046\n",
      "           1       0.96      0.96      0.96      2114\n",
      "\n",
      "    accuracy                           0.96      4160\n",
      "   macro avg       0.96      0.96      0.96      4160\n",
      "weighted avg       0.96      0.96      0.96      4160\n",
      "\n"
     ]
    }
   ],
   "source": [
    "from sklearn.ensemble import AdaBoostClassifier\n",
    "ada = AdaBoostClassifier(n_estimators=50, learning_rate=1)\n",
    "ada.fit(X_train, y_train)\n",
    "y_pred = get_prediction(ada,X_test)\n",
    "matrix,report = get_report(y_test,y_pred)\n",
    "print(\"Pridiction Values is\",y_pred)\n",
    "print(matrix)\n",
    "print(report)"
   ]
  },
  {
   "cell_type": "code",
   "execution_count": 250,
   "metadata": {},
   "outputs": [
    {
     "ename": "AttributeError",
     "evalue": "'DataFrame' object has no attribute 'reshape'",
     "output_type": "error",
     "traceback": [
      "\u001b[1;31m---------------------------------------------------------------------------\u001b[0m",
      "\u001b[1;31mAttributeError\u001b[0m                            Traceback (most recent call last)",
      "\u001b[1;32md:\\study\\Action_Learning\\Fake-News-Detection\\fake-news.ipynb Cell 20\u001b[0m in \u001b[0;36m<cell line: 22>\u001b[1;34m()\u001b[0m\n\u001b[0;32m     <a href='vscode-notebook-cell:/d%3A/study/Action_Learning/Fake-News-Detection/fake-news.ipynb#ch0000050?line=19'>20</a>\u001b[0m model\u001b[39m.\u001b[39madd(Dense(\u001b[39m1\u001b[39m,activation\u001b[39m=\u001b[39m\u001b[39m'\u001b[39m\u001b[39msigmoid\u001b[39m\u001b[39m'\u001b[39m))\n\u001b[0;32m     <a href='vscode-notebook-cell:/d%3A/study/Action_Learning/Fake-News-Detection/fake-news.ipynb#ch0000050?line=20'>21</a>\u001b[0m model\u001b[39m.\u001b[39mcompile(loss\u001b[39m=\u001b[39m\u001b[39m'\u001b[39m\u001b[39mbinary_crossentropy\u001b[39m\u001b[39m'\u001b[39m,optimizer\u001b[39m=\u001b[39m\u001b[39m'\u001b[39m\u001b[39madam\u001b[39m\u001b[39m'\u001b[39m,metrics\u001b[39m=\u001b[39m[\u001b[39m'\u001b[39m\u001b[39maccuracy\u001b[39m\u001b[39m'\u001b[39m])\n\u001b[1;32m---> <a href='vscode-notebook-cell:/d%3A/study/Action_Learning/Fake-News-Detection/fake-news.ipynb#ch0000050?line=21'>22</a>\u001b[0m model\u001b[39m.\u001b[39mfit(X_train\u001b[39m.\u001b[39mreshape(\u001b[39m1\u001b[39m, \u001b[39m-\u001b[39m\u001b[39m1\u001b[39m),y_train\u001b[39m.\u001b[39;49mreshape(\u001b[39m1\u001b[39m, \u001b[39m-\u001b[39m\u001b[39m1\u001b[39m),validation_data\u001b[39m=\u001b[39m(X_test\u001b[39m.\u001b[39mreshape(\u001b[39m1\u001b[39m, \u001b[39m-\u001b[39m\u001b[39m1\u001b[39m),y_test\u001b[39m.\u001b[39mreshape(\u001b[39m1\u001b[39m, \u001b[39m-\u001b[39m\u001b[39m1\u001b[39m)),epochs\u001b[39m=\u001b[39m\u001b[39m10\u001b[39m)\n\u001b[0;32m     <a href='vscode-notebook-cell:/d%3A/study/Action_Learning/Fake-News-Detection/fake-news.ipynb#ch0000050?line=22'>23</a>\u001b[0m y_pred \u001b[39m=\u001b[39m get_prediction(model,X_test)\n\u001b[0;32m     <a href='vscode-notebook-cell:/d%3A/study/Action_Learning/Fake-News-Detection/fake-news.ipynb#ch0000050?line=23'>24</a>\u001b[0m matrix,report \u001b[39m=\u001b[39m get_report(y_test,y_pred)\n",
      "File \u001b[1;32md:\\ProgramData\\Miniconda3\\envs\\fake-news\\lib\\site-packages\\pandas\\core\\generic.py:5575\u001b[0m, in \u001b[0;36mNDFrame.__getattr__\u001b[1;34m(self, name)\u001b[0m\n\u001b[0;32m   5568\u001b[0m \u001b[39mif\u001b[39;00m (\n\u001b[0;32m   5569\u001b[0m     name \u001b[39mnot\u001b[39;00m \u001b[39min\u001b[39;00m \u001b[39mself\u001b[39m\u001b[39m.\u001b[39m_internal_names_set\n\u001b[0;32m   5570\u001b[0m     \u001b[39mand\u001b[39;00m name \u001b[39mnot\u001b[39;00m \u001b[39min\u001b[39;00m \u001b[39mself\u001b[39m\u001b[39m.\u001b[39m_metadata\n\u001b[0;32m   5571\u001b[0m     \u001b[39mand\u001b[39;00m name \u001b[39mnot\u001b[39;00m \u001b[39min\u001b[39;00m \u001b[39mself\u001b[39m\u001b[39m.\u001b[39m_accessors\n\u001b[0;32m   5572\u001b[0m     \u001b[39mand\u001b[39;00m \u001b[39mself\u001b[39m\u001b[39m.\u001b[39m_info_axis\u001b[39m.\u001b[39m_can_hold_identifiers_and_holds_name(name)\n\u001b[0;32m   5573\u001b[0m ):\n\u001b[0;32m   5574\u001b[0m     \u001b[39mreturn\u001b[39;00m \u001b[39mself\u001b[39m[name]\n\u001b[1;32m-> 5575\u001b[0m \u001b[39mreturn\u001b[39;00m \u001b[39mobject\u001b[39;49m\u001b[39m.\u001b[39;49m\u001b[39m__getattribute__\u001b[39;49m(\u001b[39mself\u001b[39;49m, name)\n",
      "\u001b[1;31mAttributeError\u001b[0m: 'DataFrame' object has no attribute 'reshape'"
     ]
    }
   ],
   "source": [
    "# from tensorflow.keras.layers import Embedding,Dropout\n",
    "# from tensorflow.keras.preprocessing.sequence import pad_sequences\n",
    "# from tensorflow.keras.models import Sequential\n",
    "# from tensorflow.keras.preprocessing.text import one_hot\n",
    "# from tensorflow.keras.layers import LSTM,Bidirectional,GRU\n",
    "# from tensorflow.keras.layers import Dense\n",
    "\n",
    "# train_x = np.asarray(X_train)\n",
    "# train_y = np.asarray(y_train)\n",
    "# validation_x = np.asarray(X_test)\n",
    "# validation_y = np.asarray(y_test)\n",
    "\n",
    "\n",
    "# embedding_feature_vector = 60\n",
    "# model = Sequential()\n",
    "# model.add(Embedding(2000,embedding_feature_vector,input_length=1000))\n",
    "# model.add(Dropout(0.3))\n",
    "# model.add(LSTM(100))\n",
    "# model.add(Dropout(0.3))\n",
    "# model.add(Dense(1,activation='sigmoid'))\n",
    "# model.compile(loss='binary_crossentropy',optimizer='adam',metrics=['accuracy'])\n",
    "# model.fit(X_train.reshape(1, -1),y_train.reshape(1, -1),validation_data=(X_test.reshape(1, -1),y_test.reshape(1, -1)),epochs=10)\n",
    "# y_pred = get_prediction(model,X_test)\n",
    "# matrix,report = get_report(y_test,y_pred)\n",
    "# print(\"Pridiction Values is\",y_pred)\n",
    "# print(matrix)\n",
    "# print(report)\n",
    "\n",
    "\n"
   ]
  },
  {
   "cell_type": "code",
   "execution_count": null,
   "metadata": {},
   "outputs": [],
   "source": []
  },
  {
   "cell_type": "code",
   "execution_count": null,
   "metadata": {},
   "outputs": [
    {
     "name": "stderr",
     "output_type": "stream",
     "text": [
      "d:\\ProgramData\\Miniconda3\\envs\\fake-news\\lib\\site-packages\\sklearn\\neighbors\\_classification.py:200: DataConversionWarning: A column-vector y was passed when a 1d array was expected. Please change the shape of y to (n_samples,), for example using ravel().\n",
      "  return self._fit(X, y)\n",
      "C:\\Users\\jatin\\AppData\\Local\\Temp\\ipykernel_3764\\3678204328.py:8: DeprecationWarning: elementwise comparison failed; this will raise an error in the future.\n",
      "  error_rate.append(np.mean(pred_i != y_test))\n"
     ]
    },
    {
     "ename": "ValueError",
     "evalue": "Unable to coerce to Series, length must be 1: given 4160",
     "output_type": "error",
     "traceback": [
      "\u001b[1;31m---------------------------------------------------------------------------\u001b[0m",
      "\u001b[1;31mValueError\u001b[0m                                Traceback (most recent call last)",
      "\u001b[1;32md:\\study\\Action_Learning\\Fake-News-Detection\\fake-news.ipynb Cell 13\u001b[0m in \u001b[0;36m<cell line: 3>\u001b[1;34m()\u001b[0m\n\u001b[0;32m      <a href='vscode-notebook-cell:/d%3A/study/Action_Learning/Fake-News-Detection/fake-news.ipynb#ch0000031?line=5'>6</a>\u001b[0m     knn\u001b[39m.\u001b[39mfit(X_train, y_train)\n\u001b[0;32m      <a href='vscode-notebook-cell:/d%3A/study/Action_Learning/Fake-News-Detection/fake-news.ipynb#ch0000031?line=6'>7</a>\u001b[0m     pred_i \u001b[39m=\u001b[39m knn\u001b[39m.\u001b[39mpredict(X_test)\n\u001b[1;32m----> <a href='vscode-notebook-cell:/d%3A/study/Action_Learning/Fake-News-Detection/fake-news.ipynb#ch0000031?line=7'>8</a>\u001b[0m     error_rate\u001b[39m.\u001b[39mappend(np\u001b[39m.\u001b[39mmean(pred_i \u001b[39m!=\u001b[39;49m y_test))\n\u001b[0;32m     <a href='vscode-notebook-cell:/d%3A/study/Action_Learning/Fake-News-Detection/fake-news.ipynb#ch0000031?line=9'>10</a>\u001b[0m plt\u001b[39m.\u001b[39mfigure(figsize \u001b[39m=\u001b[39m(\u001b[39m10\u001b[39m, \u001b[39m6\u001b[39m))\n\u001b[0;32m     <a href='vscode-notebook-cell:/d%3A/study/Action_Learning/Fake-News-Detection/fake-news.ipynb#ch0000031?line=10'>11</a>\u001b[0m plt\u001b[39m.\u001b[39mplot(\u001b[39mrange\u001b[39m(\u001b[39m1\u001b[39m, \u001b[39m40\u001b[39m), error_rate, color \u001b[39m=\u001b[39m\u001b[39m'\u001b[39m\u001b[39mblue\u001b[39m\u001b[39m'\u001b[39m,\n\u001b[0;32m     <a href='vscode-notebook-cell:/d%3A/study/Action_Learning/Fake-News-Detection/fake-news.ipynb#ch0000031?line=11'>12</a>\u001b[0m                 linestyle \u001b[39m=\u001b[39m\u001b[39m'\u001b[39m\u001b[39mdashed\u001b[39m\u001b[39m'\u001b[39m, marker \u001b[39m=\u001b[39m\u001b[39m'\u001b[39m\u001b[39mo\u001b[39m\u001b[39m'\u001b[39m,\n\u001b[0;32m     <a href='vscode-notebook-cell:/d%3A/study/Action_Learning/Fake-News-Detection/fake-news.ipynb#ch0000031?line=12'>13</a>\u001b[0m          markerfacecolor \u001b[39m=\u001b[39m\u001b[39m'\u001b[39m\u001b[39mred\u001b[39m\u001b[39m'\u001b[39m, markersize \u001b[39m=\u001b[39m \u001b[39m10\u001b[39m)\n",
      "File \u001b[1;32md:\\ProgramData\\Miniconda3\\envs\\fake-news\\lib\\site-packages\\pandas\\core\\ops\\common.py:70\u001b[0m, in \u001b[0;36m_unpack_zerodim_and_defer.<locals>.new_method\u001b[1;34m(self, other)\u001b[0m\n\u001b[0;32m     66\u001b[0m             \u001b[39mreturn\u001b[39;00m \u001b[39mNotImplemented\u001b[39m\n\u001b[0;32m     68\u001b[0m other \u001b[39m=\u001b[39m item_from_zerodim(other)\n\u001b[1;32m---> 70\u001b[0m \u001b[39mreturn\u001b[39;00m method(\u001b[39mself\u001b[39;49m, other)\n",
      "File \u001b[1;32md:\\ProgramData\\Miniconda3\\envs\\fake-news\\lib\\site-packages\\pandas\\core\\arraylike.py:44\u001b[0m, in \u001b[0;36mOpsMixin.__ne__\u001b[1;34m(self, other)\u001b[0m\n\u001b[0;32m     42\u001b[0m \u001b[39m@unpack_zerodim_and_defer\u001b[39m(\u001b[39m\"\u001b[39m\u001b[39m__ne__\u001b[39m\u001b[39m\"\u001b[39m)\n\u001b[0;32m     43\u001b[0m \u001b[39mdef\u001b[39;00m \u001b[39m__ne__\u001b[39m(\u001b[39mself\u001b[39m, other):\n\u001b[1;32m---> 44\u001b[0m     \u001b[39mreturn\u001b[39;00m \u001b[39mself\u001b[39;49m\u001b[39m.\u001b[39;49m_cmp_method(other, operator\u001b[39m.\u001b[39;49mne)\n",
      "File \u001b[1;32md:\\ProgramData\\Miniconda3\\envs\\fake-news\\lib\\site-packages\\pandas\\core\\frame.py:6937\u001b[0m, in \u001b[0;36mDataFrame._cmp_method\u001b[1;34m(self, other, op)\u001b[0m\n\u001b[0;32m   6934\u001b[0m \u001b[39mdef\u001b[39;00m \u001b[39m_cmp_method\u001b[39m(\u001b[39mself\u001b[39m, other, op):\n\u001b[0;32m   6935\u001b[0m     axis \u001b[39m=\u001b[39m \u001b[39m1\u001b[39m  \u001b[39m# only relevant for Series other case\u001b[39;00m\n\u001b[1;32m-> 6937\u001b[0m     \u001b[39mself\u001b[39m, other \u001b[39m=\u001b[39m ops\u001b[39m.\u001b[39;49malign_method_FRAME(\u001b[39mself\u001b[39;49m, other, axis, flex\u001b[39m=\u001b[39;49m\u001b[39mFalse\u001b[39;49;00m, level\u001b[39m=\u001b[39;49m\u001b[39mNone\u001b[39;49;00m)\n\u001b[0;32m   6939\u001b[0m     \u001b[39m# See GH#4537 for discussion of scalar op behavior\u001b[39;00m\n\u001b[0;32m   6940\u001b[0m     new_data \u001b[39m=\u001b[39m \u001b[39mself\u001b[39m\u001b[39m.\u001b[39m_dispatch_frame_op(other, op, axis\u001b[39m=\u001b[39maxis)\n",
      "File \u001b[1;32md:\\ProgramData\\Miniconda3\\envs\\fake-news\\lib\\site-packages\\pandas\\core\\ops\\__init__.py:248\u001b[0m, in \u001b[0;36malign_method_FRAME\u001b[1;34m(left, right, axis, flex, level)\u001b[0m\n\u001b[0;32m    245\u001b[0m \u001b[39mif\u001b[39;00m \u001b[39misinstance\u001b[39m(right, np\u001b[39m.\u001b[39mndarray):\n\u001b[0;32m    247\u001b[0m     \u001b[39mif\u001b[39;00m right\u001b[39m.\u001b[39mndim \u001b[39m==\u001b[39m \u001b[39m1\u001b[39m:\n\u001b[1;32m--> 248\u001b[0m         right \u001b[39m=\u001b[39m to_series(right)\n\u001b[0;32m    250\u001b[0m     \u001b[39melif\u001b[39;00m right\u001b[39m.\u001b[39mndim \u001b[39m==\u001b[39m \u001b[39m2\u001b[39m:\n\u001b[0;32m    251\u001b[0m         \u001b[39mif\u001b[39;00m right\u001b[39m.\u001b[39mshape \u001b[39m==\u001b[39m left\u001b[39m.\u001b[39mshape:\n",
      "File \u001b[1;32md:\\ProgramData\\Miniconda3\\envs\\fake-news\\lib\\site-packages\\pandas\\core\\ops\\__init__.py:239\u001b[0m, in \u001b[0;36malign_method_FRAME.<locals>.to_series\u001b[1;34m(right)\u001b[0m\n\u001b[0;32m    237\u001b[0m \u001b[39melse\u001b[39;00m:\n\u001b[0;32m    238\u001b[0m     \u001b[39mif\u001b[39;00m \u001b[39mlen\u001b[39m(left\u001b[39m.\u001b[39mcolumns) \u001b[39m!=\u001b[39m \u001b[39mlen\u001b[39m(right):\n\u001b[1;32m--> 239\u001b[0m         \u001b[39mraise\u001b[39;00m \u001b[39mValueError\u001b[39;00m(\n\u001b[0;32m    240\u001b[0m             msg\u001b[39m.\u001b[39mformat(req_len\u001b[39m=\u001b[39m\u001b[39mlen\u001b[39m(left\u001b[39m.\u001b[39mcolumns), given_len\u001b[39m=\u001b[39m\u001b[39mlen\u001b[39m(right))\n\u001b[0;32m    241\u001b[0m         )\n\u001b[0;32m    242\u001b[0m     right \u001b[39m=\u001b[39m left\u001b[39m.\u001b[39m_constructor_sliced(right, index\u001b[39m=\u001b[39mleft\u001b[39m.\u001b[39mcolumns)\n\u001b[0;32m    243\u001b[0m \u001b[39mreturn\u001b[39;00m right\n",
      "\u001b[1;31mValueError\u001b[0m: Unable to coerce to Series, length must be 1: given 4160"
     ]
    }
   ],
   "source": [
    "error_rate = []\n",
    " \n",
    "for i in range(1, 40):\n",
    "     \n",
    "    knn = KNeighborsClassifier(n_neighbors = i)\n",
    "    knn.fit(X_train, y_train)\n",
    "    pred_i = knn.predict(X_test)\n",
    "    error_rate.append(np.mean(pred_i != y_test))\n",
    " \n",
    "plt.figure(figsize =(10, 6))\n",
    "plt.plot(range(1, 40), error_rate, color ='blue',\n",
    "                linestyle ='dashed', marker ='o',\n",
    "         markerfacecolor ='red', markersize = 10)\n",
    " \n",
    "plt.title('Error Rate vs. K Value')\n",
    "plt.xlabel('K')\n",
    "plt.ylabel('Error Rate')"
   ]
  },
  {
   "cell_type": "code",
   "execution_count": null,
   "metadata": {},
   "outputs": [],
   "source": [
    "from sklearn.ensemble import RandomForestRegressor\n",
    " \n",
    "rf = RandomForestRegressor(n_estimators = 100, random_state = 0)\n",
    "rf.fit(X_train, y_train)\n",
    "rf_pred = rf.predict(X_test)\n",
    "print(\"Random Forest model accuracy(in %):\", \n",
    "metrics.accuracy_score(y_test, rf_pred)*100)"
   ]
  },
  {
   "cell_type": "code",
   "execution_count": null,
   "metadata": {},
   "outputs": [],
   "source": [
    "X_grid = np.arrange(min(X_train), max(X_train), 0.01)\n",
    " \n",
    "# reshape for reshaping the data into a len(X_grid)*1 array,\n",
    "# i.e. to make a column out of the X_grid value                 \n",
    "X_grid = X_grid.reshape((len(X_grid), 1))\n",
    " \n",
    "# Scatter plot for original data\n",
    "plt.scatter(X_train, y_train, color = 'blue') \n",
    " \n",
    "# plot predicted data\n",
    "plt.plot(X_grid, rf.predict(X_grid),\n",
    "         color = 'green')\n",
    "plt.title('Random Forest Regression')\n",
    "plt.xlabel('Position level')\n",
    "plt.ylabel('Salary')\n",
    "plt.show()"
   ]
  },
  {
   "cell_type": "code",
   "execution_count": null,
   "metadata": {},
   "outputs": [],
   "source": [
    "from sklearn.linear_model import LogisticRegression\n",
    "from sklearn.neighbors import KNeighborsClassifier\n",
    "from sklearn import tree\n",
    "from sklearn.ensemble import RandomForestRegressor\n"
   ]
  },
  {
   "cell_type": "code",
   "execution_count": null,
   "metadata": {},
   "outputs": [],
   "source": [
    "def model(model,X_train, y_train, y_test):\n",
    "    mod = model.fit(X_train, y_train)\n",
    "    y_pred = mod.predict(X_test)\n",
    "    #print(\"model accuracy(in %):\", metrics.accuracy_score(y_test, y_pred)*100)\n",
    "    print(classification_report(y_test, y_pred))"
   ]
  },
  {
   "cell_type": "code",
   "execution_count": null,
   "metadata": {},
   "outputs": [
    {
     "name": "stdout",
     "output_type": "stream",
     "text": [
      "              precision    recall  f1-score   support\n",
      "\n",
      "           0       0.99      0.06      0.12      8299\n",
      "           1       0.52      1.00      0.68      8341\n",
      "\n",
      "    accuracy                           0.53     16640\n",
      "   macro avg       0.75      0.53      0.40     16640\n",
      "weighted avg       0.75      0.53      0.40     16640\n",
      "\n"
     ]
    }
   ],
   "source": [
    "knn = KNeighborsClassifier(n_neighbors = 10)\n",
    "model(knn, X_train, y_train, y_test)"
   ]
  },
  {
   "cell_type": "markdown",
   "metadata": {},
   "source": []
  },
  {
   "cell_type": "code",
   "execution_count": null,
   "metadata": {},
   "outputs": [],
   "source": []
  },
  {
   "cell_type": "code",
   "execution_count": null,
   "metadata": {},
   "outputs": [],
   "source": [
    "from sklearn.neighbors import KNeighborsClassifier\n",
    " \n",
    "knn = KNeighborsClassifier(n_neighbors = 2)\n",
    "model(knn)\n",
    "print(classification_report(y_test, knn_pred))"
   ]
  },
  {
   "cell_type": "code",
   "execution_count": null,
   "metadata": {},
   "outputs": [],
   "source": []
  },
  {
   "cell_type": "markdown",
   "metadata": {},
   "source": [
    " K-nearest  neighbor (KNN),  support  vector machine  (SVM),  logistic  regression  (LR),  linear  support  vector machine (LSVM), decision tree (DT), "
   ]
  }
 ],
 "metadata": {
  "kernelspec": {
   "display_name": "Python 3 (ipykernel)",
   "language": "python",
   "name": "python3"
  },
  "language_info": {
   "codemirror_mode": {
    "name": "ipython",
    "version": 3
   },
   "file_extension": ".py",
   "mimetype": "text/x-python",
   "name": "python",
   "nbconvert_exporter": "python",
   "pygments_lexer": "ipython3",
   "version": "3.9.12"
  },
  "vscode": {
   "interpreter": {
    "hash": "e7bb022964789df308a423c04447c18a59731d287287fad50a4be52442e25c04"
   }
  }
 },
 "nbformat": 4,
 "nbformat_minor": 2
}
